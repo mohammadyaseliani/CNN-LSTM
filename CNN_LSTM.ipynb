{
  "nbformat": 4,
  "nbformat_minor": 0,
  "metadata": {
    "colab": {
      "name": "CNN-LSTM.ipynb",
      "provenance": [],
      "collapsed_sections": []
    },
    "kernelspec": {
      "display_name": "Python 3",
      "language": "python",
      "name": "python3"
    },
    "language_info": {
      "codemirror_mode": {
        "name": "ipython",
        "version": 3
      },
      "file_extension": ".py",
      "mimetype": "text/x-python",
      "name": "python",
      "nbconvert_exporter": "python",
      "pygments_lexer": "ipython3",
      "version": "3.8.5"
    }
  },
  "cells": [
    {
      "cell_type": "code",
      "metadata": {
        "id": "pOcABxXpdMfz"
      },
      "source": [
        "# Importing the Necessary Libraries \n",
        "from tensorflow.keras.layers import Input, Lambda, Dense, Flatten, Dropout, GlobalAveragePooling2D, Conv2D, MaxPooling2D\n",
        "from tensorflow.keras.models import Model\n",
        "from tensorflow.keras.models import load_model\n",
        "from google.colab import drive\n",
        "import numpy as np\n",
        "from tensorflow.keras.callbacks import ModelCheckpoint\n",
        "import tensorflow as tf\n",
        "from tensorflow.keras.layers import LSTM\n",
        "from tensorflow.keras import Sequential\n",
        "from sklearn.metrics import confusion_matrix\n",
        "from sklearn.metrics import classification_report\n",
        "from sklearn.metrics import accuracy_score\n",
        "import seaborn as sns\n",
        "import matplotlib.pyplot as plt\n",
        "from keras.datasets import mnist"
      ],
      "execution_count": null,
      "outputs": []
    },
    {
      "cell_type": "code",
      "source": [
        "# load dataset\n",
        "(trainX, trainy), (testX, testy) = mnist.load_data()"
      ],
      "metadata": {
        "id": "aku65GDTdfsI"
      },
      "execution_count": null,
      "outputs": []
    },
    {
      "cell_type": "code",
      "source": [
        "# The shape of training set\n",
        "trainX.shape"
      ],
      "metadata": {
        "colab": {
          "base_uri": "https://localhost:8080/"
        },
        "id": "OJXMs_KWdsmR",
        "outputId": "1a6d363e-ea27-4391-9405-1dfb193e689f"
      },
      "execution_count": null,
      "outputs": [
        {
          "output_type": "execute_result",
          "data": {
            "text/plain": [
              "(60000, 28, 28)"
            ]
          },
          "metadata": {},
          "execution_count": 62
        }
      ]
    },
    {
      "cell_type": "code",
      "source": [
        "# Changing the labels to categorical type\n",
        "trainy = tf.keras.utils.to_categorical(trainy)\n",
        "testy = tf.keras.utils.to_categorical(testy)"
      ],
      "metadata": {
        "id": "sW_WBP9KeSan"
      },
      "execution_count": null,
      "outputs": []
    },
    {
      "cell_type": "code",
      "source": [
        "# Normalization of training and test sets \n",
        "train_norm = trainX / 255.0\n",
        "test_norm = testX / 255.0"
      ],
      "metadata": {
        "id": "xHxpX361e5HL"
      },
      "execution_count": null,
      "outputs": []
    },
    {
      "cell_type": "code",
      "source": [
        "# Train the CNN model\n",
        "model_cnn = Sequential()\n",
        "model_cnn.add(Conv2D(32, (3, 3), activation='relu', kernel_initializer='he_uniform', input_shape=(28, 28, 1)))\n",
        "model_cnn.add(MaxPooling2D((2, 2)))\n",
        "model_cnn.add(Flatten())\n",
        "model_cnn.add(Dense(100, activation='relu', kernel_initializer='he_uniform'))\n",
        "model_cnn.add(Dense(10, activation='softmax'))\n",
        "model_cnn.summary()"
      ],
      "metadata": {
        "colab": {
          "base_uri": "https://localhost:8080/"
        },
        "id": "5j2Tc82qfI2H",
        "outputId": "09ec335b-86f7-4a3c-bbe2-0404edfc5a5e"
      },
      "execution_count": null,
      "outputs": [
        {
          "output_type": "stream",
          "name": "stdout",
          "text": [
            "Model: \"sequential_11\"\n",
            "_________________________________________________________________\n",
            " Layer (type)                Output Shape              Param #   \n",
            "=================================================================\n",
            " conv2d_568 (Conv2D)         (None, 26, 26, 32)        320       \n",
            "                                                                 \n",
            " max_pooling2d_24 (MaxPoolin  (None, 13, 13, 32)       0         \n",
            " g2D)                                                            \n",
            "                                                                 \n",
            " flatten_9 (Flatten)         (None, 5408)              0         \n",
            "                                                                 \n",
            " dense_18 (Dense)            (None, 100)               540900    \n",
            "                                                                 \n",
            " dense_19 (Dense)            (None, 10)                1010      \n",
            "                                                                 \n",
            "=================================================================\n",
            "Total params: 542,230\n",
            "Trainable params: 542,230\n",
            "Non-trainable params: 0\n",
            "_________________________________________________________________\n"
          ]
        }
      ]
    },
    {
      "cell_type": "code",
      "source": [
        "# Compile the CNN model\n",
        "model_cnn.compile(optimizer='rmsprop', loss='categorical_crossentropy', metrics='accuracy')"
      ],
      "metadata": {
        "id": "OtWY04DWlZhb"
      },
      "execution_count": null,
      "outputs": []
    },
    {
      "cell_type": "code",
      "source": [
        "# Saving the Weight Parameters, When Achieving a Higher Test Accuracy\n",
        "checkpoint = ModelCheckpoint(filepath='/content/model_cnn.h5', \n",
        "                               monitor='val_accuracy', verbose=1, save_best_only=True)\n",
        "\n",
        "callbacks = [checkpoint]\n",
        "\n",
        "history = model_cnn.fit(trainX, # Features\n",
        "trainy, # Target vector\n",
        "epochs=10,\n",
        "callbacks=callbacks,\n",
        "verbose=1, # Print description after each epoch\n",
        "batch_size=64, # Number of observations per batch\n",
        "validation_data=(testX, testy)) # Test data"
      ],
      "metadata": {
        "id": "rfZ7fHvS1Oo9",
        "colab": {
          "base_uri": "https://localhost:8080/"
        },
        "outputId": "49c1a0ae-ad5c-43c1-84cd-a1d43c5d00b5"
      },
      "execution_count": null,
      "outputs": [
        {
          "output_type": "stream",
          "name": "stdout",
          "text": [
            "Epoch 1/10\n",
            "937/938 [============================>.] - ETA: 0s - loss: 7.6626 - accuracy: 0.7556\n",
            "Epoch 1: val_accuracy improved from -inf to 0.87680, saving model to /content/model_cnn.h5\n",
            "938/938 [==============================] - 32s 33ms/step - loss: 7.6594 - accuracy: 0.7556 - val_loss: 0.6210 - val_accuracy: 0.8768\n",
            "Epoch 2/10\n",
            "938/938 [==============================] - ETA: 0s - loss: 0.5550 - accuracy: 0.8993\n",
            "Epoch 2: val_accuracy improved from 0.87680 to 0.94220, saving model to /content/model_cnn.h5\n",
            "938/938 [==============================] - 33s 35ms/step - loss: 0.5550 - accuracy: 0.8993 - val_loss: 0.4253 - val_accuracy: 0.9422\n",
            "Epoch 3/10\n",
            "937/938 [============================>.] - ETA: 0s - loss: 0.3595 - accuracy: 0.9410\n",
            "Epoch 3: val_accuracy improved from 0.94220 to 0.95230, saving model to /content/model_cnn.h5\n",
            "938/938 [==============================] - 30s 32ms/step - loss: 0.3600 - accuracy: 0.9409 - val_loss: 0.3226 - val_accuracy: 0.9523\n",
            "Epoch 4/10\n",
            "937/938 [============================>.] - ETA: 0s - loss: 0.2636 - accuracy: 0.9527\n",
            "Epoch 4: val_accuracy improved from 0.95230 to 0.95680, saving model to /content/model_cnn.h5\n",
            "938/938 [==============================] - 36s 38ms/step - loss: 0.2634 - accuracy: 0.9527 - val_loss: 0.2445 - val_accuracy: 0.9568\n",
            "Epoch 5/10\n",
            "937/938 [============================>.] - ETA: 0s - loss: 0.2352 - accuracy: 0.9594\n",
            "Epoch 5: val_accuracy did not improve from 0.95680\n",
            "938/938 [==============================] - 38s 41ms/step - loss: 0.2352 - accuracy: 0.9593 - val_loss: 0.3577 - val_accuracy: 0.9557\n",
            "Epoch 6/10\n",
            "937/938 [============================>.] - ETA: 0s - loss: 0.2182 - accuracy: 0.9606\n",
            "Epoch 6: val_accuracy did not improve from 0.95680\n",
            "938/938 [==============================] - 41s 43ms/step - loss: 0.2182 - accuracy: 0.9606 - val_loss: 0.2538 - val_accuracy: 0.9523\n",
            "Epoch 7/10\n",
            "938/938 [==============================] - ETA: 0s - loss: 0.2027 - accuracy: 0.9643\n",
            "Epoch 7: val_accuracy improved from 0.95680 to 0.96570, saving model to /content/model_cnn.h5\n",
            "938/938 [==============================] - 39s 42ms/step - loss: 0.2027 - accuracy: 0.9643 - val_loss: 0.2492 - val_accuracy: 0.9657\n",
            "Epoch 8/10\n",
            "937/938 [============================>.] - ETA: 0s - loss: 0.1911 - accuracy: 0.9673\n",
            "Epoch 8: val_accuracy did not improve from 0.96570\n",
            "938/938 [==============================] - 38s 40ms/step - loss: 0.1911 - accuracy: 0.9673 - val_loss: 0.2205 - val_accuracy: 0.9627\n",
            "Epoch 9/10\n",
            "938/938 [==============================] - ETA: 0s - loss: 0.1749 - accuracy: 0.9681\n",
            "Epoch 9: val_accuracy improved from 0.96570 to 0.97070, saving model to /content/model_cnn.h5\n",
            "938/938 [==============================] - 41s 43ms/step - loss: 0.1749 - accuracy: 0.9681 - val_loss: 0.2290 - val_accuracy: 0.9707\n",
            "Epoch 10/10\n",
            "938/938 [==============================] - ETA: 0s - loss: 0.1571 - accuracy: 0.9720\n",
            "Epoch 10: val_accuracy did not improve from 0.97070\n",
            "938/938 [==============================] - 39s 41ms/step - loss: 0.1571 - accuracy: 0.9720 - val_loss: 0.2234 - val_accuracy: 0.9686\n"
          ]
        }
      ]
    },
    {
      "cell_type": "code",
      "source": [
        "# Load the trained CNN model\n",
        "network = load_model('/content/model_cnn.h5')"
      ],
      "metadata": {
        "id": "INNDwLAzoS4_"
      },
      "execution_count": null,
      "outputs": []
    },
    {
      "cell_type": "code",
      "source": [
        "# Create the feature extractor (using first FC layer)\n",
        "feature_extractor = Model(inputs=network.input, outputs=network.layers[3].output)"
      ],
      "metadata": {
        "id": "JIdC0LUXn_65"
      },
      "execution_count": null,
      "outputs": []
    },
    {
      "cell_type": "code",
      "source": [
        "# Extract the features of images in the training set\n",
        "features_train=feature_extractor.predict(trainX)\n",
        "features_train=features_train.reshape(60000, 10, 10)"
      ],
      "metadata": {
        "id": "4f17nlPZo1Sy"
      },
      "execution_count": null,
      "outputs": []
    },
    {
      "cell_type": "code",
      "source": [
        "# Extract the features of images in the test set\n",
        "features_test=feature_extractor.predict(testX)\n",
        "features_test=features_test.reshape(10000, 10, 10)"
      ],
      "metadata": {
        "id": "NX4O5bgFpqKK"
      },
      "execution_count": null,
      "outputs": []
    },
    {
      "cell_type": "code",
      "source": [
        "# Create the LSTM network\n",
        "model_lstm = Sequential()\n",
        "model_lstm.add(LSTM(64, activation='relu', input_shape=(10, 10), return_sequences=False))\n",
        "model_lstm.add(Dropout(0.2))\n",
        "model_lstm.add(Dense(units=10, activation=\"softmax\"))\n",
        "model_lstm.summary()"
      ],
      "metadata": {
        "colab": {
          "base_uri": "https://localhost:8080/"
        },
        "id": "MDmWsM57xcOH",
        "outputId": "841ce2b2-039d-4145-acef-c7a81ee4cf67"
      },
      "execution_count": null,
      "outputs": [
        {
          "output_type": "stream",
          "name": "stdout",
          "text": [
            "Model: \"sequential_14\"\n",
            "_________________________________________________________________\n",
            " Layer (type)                Output Shape              Param #   \n",
            "=================================================================\n",
            " lstm_2 (LSTM)               (None, 64)                19200     \n",
            "                                                                 \n",
            " dropout_2 (Dropout)         (None, 64)                0         \n",
            "                                                                 \n",
            " dense_22 (Dense)            (None, 10)                650       \n",
            "                                                                 \n",
            "=================================================================\n",
            "Total params: 19,850\n",
            "Trainable params: 19,850\n",
            "Non-trainable params: 0\n",
            "_________________________________________________________________\n"
          ]
        }
      ]
    },
    {
      "cell_type": "code",
      "source": [
        "# Compile the LSTM network\n",
        "model_lstm.compile(optimizer='adam', loss='categorical_crossentropy', metrics='accuracy')"
      ],
      "metadata": {
        "id": "qxaIweMnYtfS"
      },
      "execution_count": null,
      "outputs": []
    },
    {
      "cell_type": "code",
      "metadata": {
        "colab": {
          "base_uri": "https://localhost:8080/"
        },
        "id": "80oSuX1OgDet",
        "outputId": "dbce75e3-7c9d-4bc3-a74c-5fdf8080969f"
      },
      "source": [
        "# Saving the Weight Parameters, When Achieving a Higher Test Accuracy\n",
        "checkpoint = ModelCheckpoint(filepath='/content/lstm.h5', \n",
        "                               monitor='val_accuracy', verbose=1, save_best_only=True)\n",
        "\n",
        "callbacks = [checkpoint]\n",
        "\n",
        "history = model_lstm.fit(features_train, # Features\n",
        "trainy, # Target vector\n",
        "epochs=10,\n",
        "callbacks=callbacks,\n",
        "verbose=1, # Print description after each epoch\n",
        "batch_size=64, # Number of observations per batch\n",
        "validation_data=(features_test, testy)) # Test data"
      ],
      "execution_count": null,
      "outputs": [
        {
          "output_type": "stream",
          "name": "stdout",
          "text": [
            "Epoch 1/10\n",
            "936/938 [============================>.] - ETA: 0s - loss: 0.1990 - accuracy: 0.9537\n",
            "Epoch 1: val_accuracy improved from -inf to 0.96940, saving model to /content/lstm.h5\n",
            "938/938 [==============================] - 15s 14ms/step - loss: 0.1991 - accuracy: 0.9537 - val_loss: 0.1451 - val_accuracy: 0.9694\n",
            "Epoch 2/10\n",
            "935/938 [============================>.] - ETA: 0s - loss: 0.0974 - accuracy: 0.9759\n",
            "Epoch 2: val_accuracy improved from 0.96940 to 0.97120, saving model to /content/lstm.h5\n",
            "938/938 [==============================] - 12s 13ms/step - loss: 0.0972 - accuracy: 0.9760 - val_loss: 0.1345 - val_accuracy: 0.9712\n",
            "Epoch 3/10\n",
            "937/938 [============================>.] - ETA: 0s - loss: 0.0856 - accuracy: 0.9778\n",
            "Epoch 3: val_accuracy did not improve from 0.97120\n",
            "938/938 [==============================] - 11s 12ms/step - loss: 0.0856 - accuracy: 0.9779 - val_loss: 0.1351 - val_accuracy: 0.9695\n",
            "Epoch 4/10\n",
            "935/938 [============================>.] - ETA: 0s - loss: 0.0846 - accuracy: 0.9783\n",
            "Epoch 4: val_accuracy improved from 0.97120 to 0.97130, saving model to /content/lstm.h5\n",
            "938/938 [==============================] - 14s 15ms/step - loss: 0.0845 - accuracy: 0.9783 - val_loss: 0.1330 - val_accuracy: 0.9713\n",
            "Epoch 5/10\n",
            "938/938 [==============================] - ETA: 0s - loss: 0.0789 - accuracy: 0.9797\n",
            "Epoch 5: val_accuracy improved from 0.97130 to 0.97200, saving model to /content/lstm.h5\n",
            "938/938 [==============================] - 12s 13ms/step - loss: 0.0789 - accuracy: 0.9797 - val_loss: 0.1360 - val_accuracy: 0.9720\n",
            "Epoch 6/10\n",
            "936/938 [============================>.] - ETA: 0s - loss: 0.0776 - accuracy: 0.9798\n",
            "Epoch 6: val_accuracy improved from 0.97200 to 0.97240, saving model to /content/lstm.h5\n",
            "938/938 [==============================] - 21s 23ms/step - loss: 0.0776 - accuracy: 0.9798 - val_loss: 0.1289 - val_accuracy: 0.9724\n",
            "Epoch 7/10\n",
            "938/938 [==============================] - ETA: 0s - loss: 0.0774 - accuracy: 0.9803\n",
            "Epoch 7: val_accuracy did not improve from 0.97240\n",
            "938/938 [==============================] - 12s 12ms/step - loss: 0.0774 - accuracy: 0.9803 - val_loss: 0.1293 - val_accuracy: 0.9718\n",
            "Epoch 8/10\n",
            "937/938 [============================>.] - ETA: 0s - loss: 0.0762 - accuracy: 0.9797\n",
            "Epoch 8: val_accuracy improved from 0.97240 to 0.97260, saving model to /content/lstm.h5\n",
            "938/938 [==============================] - 12s 12ms/step - loss: 0.0762 - accuracy: 0.9797 - val_loss: 0.1289 - val_accuracy: 0.9726\n",
            "Epoch 9/10\n",
            "934/938 [============================>.] - ETA: 0s - loss: 0.0742 - accuracy: 0.9805\n",
            "Epoch 9: val_accuracy did not improve from 0.97260\n",
            "938/938 [==============================] - 12s 12ms/step - loss: 0.0744 - accuracy: 0.9805 - val_loss: 0.1291 - val_accuracy: 0.9710\n",
            "Epoch 10/10\n",
            "937/938 [============================>.] - ETA: 0s - loss: 0.0728 - accuracy: 0.9806\n",
            "Epoch 10: val_accuracy did not improve from 0.97260\n",
            "938/938 [==============================] - 12s 13ms/step - loss: 0.0730 - accuracy: 0.9805 - val_loss: 0.1398 - val_accuracy: 0.9721\n"
          ]
        }
      ]
    },
    {
      "cell_type": "code",
      "source": [
        "# Load the trained LSTM network\n",
        "network = load_model('/content/lstm.h5')\n",
        "model = Model(inputs=network.input, outputs=network.output)"
      ],
      "metadata": {
        "id": "CuOdri99n1kf"
      },
      "execution_count": null,
      "outputs": []
    },
    {
      "cell_type": "code",
      "source": [
        "# Get the probabilties using the test features \n",
        "preds_prob=model.predict(features_test)"
      ],
      "metadata": {
        "id": "jj6CWXyYmlpe"
      },
      "execution_count": null,
      "outputs": []
    },
    {
      "cell_type": "code",
      "source": [
        "# Get the class predicitons\n",
        "preds=np.argmax(preds_prob, axis=1)"
      ],
      "metadata": {
        "id": "pLPMqNAOm81n"
      },
      "execution_count": null,
      "outputs": []
    },
    {
      "cell_type": "code",
      "source": [
        "preds"
      ],
      "metadata": {
        "colab": {
          "base_uri": "https://localhost:8080/"
        },
        "id": "KAIuv671rvyV",
        "outputId": "35cc5618-8298-4769-8568-75ceb2eb5786"
      },
      "execution_count": null,
      "outputs": [
        {
          "output_type": "execute_result",
          "data": {
            "text/plain": [
              "array([7, 2, 1, ..., 4, 5, 6])"
            ]
          },
          "metadata": {},
          "execution_count": 124
        }
      ]
    },
    {
      "cell_type": "code",
      "source": [
        "# Create the test set labels to the range 0-9 (In the previous state, the classes are presented in binary form --> Example: [0, 0, 1, 0, 0, 0, 0, 0, 0, 0] means class 3\n",
        "classes=[]\n",
        "for i in range(len(testy)):\n",
        "  a=np.argmax(testy[i])\n",
        "  classes.append(a)"
      ],
      "metadata": {
        "id": "-8LR_uLvr0M0"
      },
      "execution_count": null,
      "outputs": []
    },
    {
      "cell_type": "code",
      "metadata": {
        "colab": {
          "base_uri": "https://localhost:8080/",
          "height": 312
        },
        "id": "Wh_MQsxpfRjK",
        "outputId": "256cbdda-ef69-4982-e0f0-476b4ad16363"
      },
      "source": [
        "# Creating Confusion Matrix\n",
        "cf_matrix=confusion_matrix(classes, preds)\n",
        "ax=plt.subplot()\n",
        "sns.heatmap(cf_matrix, cmap='Blues', annot=True, linewidths=1, fmt = 'd', ax=ax)\n",
        "ax.set_xlabel('Predicted Class');ax.set_ylabel('True Class')\n",
        "ax.set_title('Confusion Matrix')\n",
        "ax.xaxis.set_ticklabels(['0', '1','2', '3','4', '5','6', '7','8', '9']); ax.yaxis.set_ticklabels(['0', '1','2', '3','4', '5','6', '7','8', '9'])\n",
        "accuracy_score(classes, preds)"
      ],
      "execution_count": null,
      "outputs": [
        {
          "output_type": "execute_result",
          "data": {
            "text/plain": [
              "0.9726"
            ]
          },
          "metadata": {},
          "execution_count": 127
        },
        {
          "output_type": "display_data",
          "data": {
            "text/plain": [
              "<Figure size 432x288 with 2 Axes>"
            ],
            "image/png": "[encoded data removed]"
          },
          "metadata": {
            "needs_background": "light"
          }
        }
      ]
    }
  ]
}